{
 "cells": [
  {
   "cell_type": "code",
   "execution_count": 1,
   "id": "bb810586",
   "metadata": {},
   "outputs": [],
   "source": [
    "##now importing basic Libraries\n",
    "import selenium\n",
    "from selenium import webdriver\n",
    "import pandas as pd\n",
    "import time\n",
    "import warnings\n",
    "warnings.filterwarnings('ignore')"
   ]
  },
  {
   "cell_type": "code",
   "execution_count": 2,
   "id": "6f7e3e34",
   "metadata": {},
   "outputs": [],
   "source": [
    "driver = webdriver.Chrome(r'C:\\Users\\DELL\\Downloads\\chromedriver_win32\\chromedriver.exe')"
   ]
  },
  {
   "cell_type": "code",
   "execution_count": 11,
   "id": "b0c0ba6e",
   "metadata": {},
   "outputs": [],
   "source": [
    "## entering the website to the browser\n",
    "driver.get(\"https://www.cars24.com/\") "
   ]
  },
  {
   "cell_type": "code",
   "execution_count": 12,
   "id": "492a52bd",
   "metadata": {},
   "outputs": [],
   "source": [
    "driver.find_element_by_xpath(\"//div[@class='float-right TBxAN']\").click()\n",
    "driver.find_element_by_xpath(\"//span[@class='_1Aa4N']\").click()\n",
    "car_name=[]\n",
    "model=[]\n",
    "price=[]\n",
    "km=[]\n",
    "fuel_type=[]\n",
    "owner=[]\n",
    "location=[]"
   ]
  },
  {
   "cell_type": "code",
   "execution_count": 66,
   "id": "8964427d",
   "metadata": {},
   "outputs": [],
   "source": [
    "driver.find_element_by_xpath(\"/html/body/div[1]/div[1]/header/div/div[1]/div[2]/p\").click()\n",
    "#driver.find_element_by_xpath(\"/html/body/div[1]/div[6]/div/div/div/div[2]/ul/li[6]\").click()"
   ]
  },
  {
   "cell_type": "code",
   "execution_count": 67,
   "id": "cc872298",
   "metadata": {},
   "outputs": [],
   "source": [
    "driver.find_element_by_xpath(\"/html/body/div[1]/div[6]/div/div/div/div[2]/ul/li[9]\").click()"
   ]
  },
  {
   "cell_type": "code",
   "execution_count": 68,
   "id": "65afb134",
   "metadata": {},
   "outputs": [],
   "source": [
    "last_height = driver.execute_script(\"return window.scrollY\")\n",
    "elll=[]\n",
    "while True:\n",
    "    driver.execute_script(\"window.scrollTo(0, window.scrollY + window.innerHeight);\")\n",
    "    time.sleep(2)    \n",
    "    new_height = driver.execute_script(\"return window.scrollY\")\n",
    "    if new_height == last_height:\n",
    "        break \n",
    "    last_height = new_height  "
   ]
  },
  {
   "cell_type": "code",
   "execution_count": 69,
   "id": "79a0ca5e",
   "metadata": {},
   "outputs": [],
   "source": [
    "loc=[]\n",
    "place=[]\n",
    "for j in driver.find_elements_by_xpath(\"//h2[@class='_3FpCg']\"):\n",
    "        car_name.append(j.text)\n",
    "        place.append(j.text)\n",
    "for z in driver.find_elements_by_xpath(\"//p[@class='cvakB']\"):\n",
    "        model.append(z.text)\n",
    "for x in driver.find_elements_by_xpath(\"//div[@class='_7udZZ']\"):\n",
    "        price.append(x.text)\n",
    "for y in driver.find_elements_by_xpath(\"//ul[@class='bVR0c']/li[1]\"):\n",
    "        km.append(y.text)\n",
    "for a in driver.find_elements_by_xpath(\"//ul[@class='bVR0c']/li[2]\"):\n",
    "        owner.append(a.text)\n",
    "for b in driver.find_elements_by_xpath(\"//ul[@class='bVR0c']/li[3]\"):\n",
    "     fuel_type.append(b.text)\n",
    "for i in driver.find_elements_by_xpath(\"/html/body/div[1]/div[1]/header/div/div[1]/div[2]/p\"):\n",
    "        loc.append(i.text)\n",
    "time.sleep(2)"
   ]
  },
  {
   "cell_type": "code",
   "execution_count": 70,
   "id": "247e56cd",
   "metadata": {},
   "outputs": [],
   "source": [
    "b=loc*len(place)\n",
    "for i in b:\n",
    "    location.append(i)"
   ]
  },
  {
   "cell_type": "code",
   "execution_count": 71,
   "id": "3a65d792",
   "metadata": {},
   "outputs": [
    {
     "name": "stdout",
     "output_type": "stream",
     "text": [
      "6110 6110 6110 6110 6110 6110 6110\n"
     ]
    }
   ],
   "source": [
    "print(len(car_name),len(model),len(price),len(km),len(owner),len(fuel_type),len(location))"
   ]
  },
  {
   "cell_type": "code",
   "execution_count": 73,
   "id": "b61f713f",
   "metadata": {},
   "outputs": [
    {
     "data": {
      "text/plain": [
       "'Kolkata'"
      ]
     },
     "execution_count": 73,
     "metadata": {},
     "output_type": "execute_result"
    }
   ],
   "source": [
    "location[6000]"
   ]
  },
  {
   "cell_type": "code",
   "execution_count": 79,
   "id": "786d96e1",
   "metadata": {},
   "outputs": [],
   "source": [
    "Model_year=[]   \n",
    "for i in range(0,6110):\n",
    "    a=car_name[i][0:5]\n",
    "    Model_year.append(a) "
   ]
  },
  {
   "cell_type": "code",
   "execution_count": 80,
   "id": "c0efb9c3",
   "metadata": {},
   "outputs": [],
   "source": [
    "Model=[]\n",
    "for i in range(0,6110):\n",
    "    a=car_name[i][5::]\n",
    "    Model.append(a) "
   ]
  },
  {
   "cell_type": "code",
   "execution_count": 81,
   "id": "b285db0e",
   "metadata": {},
   "outputs": [],
   "source": [
    "Model=[]\n",
    "for i in range(0,6110):\n",
    "    a=car_name[i][5::]\n",
    "    Model.append(a) "
   ]
  },
  {
   "cell_type": "code",
   "execution_count": null,
   "id": "cd88694d",
   "metadata": {},
   "outputs": [],
   "source": [
    "try:\n",
    "    for i in range(1,10):\n",
    "        driver.find_element_by_xpath(\"/html/body/div[1]/div[1]/header/div/div[1]/div[2]/p\").click()\n",
    "        driver.find_element_by_xpath(\"/html/body/div[1]/div[6]/div/div/div/div[2]/ul/li\"+str([i])).click()\n",
    "        last_height = driver.execute_script(\"return window.scrollY\")\n",
    "        elll=[]\n",
    "        while True:\n",
    "            driver.execute_script(\"window.scrollTo(0, window.scrollY + window.innerHeight);\")\n",
    "            time.sleep(2)    \n",
    "            new_height = driver.execute_script(\"return window.scrollY\")\n",
    "        if new_height == last_height:\n",
    "            break \n",
    "        last_height = new_height  \n",
    "        loc=[]\n",
    "        place=[]\n",
    "        for j in driver.find_elements_by_xpath(\"//h2[@class='_3FpCg']\"):\n",
    "            car_name.append(j.text)\n",
    "            place.append(j.text)\n",
    "        for z in driver.find_elements_by_xpath(\"//p[@class='cvakB']\"):\n",
    "            model.append(z.text)\n",
    "        for x in driver.find_elements_by_xpath(\"//div[@class='_7udZZ']\"):\n",
    "            price.append(x.text)\n",
    "        for y in driver.find_elements_by_xpath(\"//ul[@class='bVR0c']/li[1]\"):\n",
    "            km.append(y.text)\n",
    "        for a in driver.find_elements_by_xpath(\"//ul[@class='bVR0c']/li[2]\"):\n",
    "            owner.append(a.text)\n",
    "        for b in driver.find_elements_by_xpath(\"//ul[@class='bVR0c']/li[3]\"):\n",
    "             fuel_type.append(b.text)\n",
    "        for i in driver.find_elements_by_xpath(\"/html/body/div[1]/div[1]/header/div/div[1]/div[2]/p\"):\n",
    "            loc.append(i.text)\n",
    "        b=loc*len(place)\n",
    "        for i in b:\n",
    "            location.append(i)\n",
    "except:\n",
    "     pass"
   ]
  },
  {
   "cell_type": "code",
   "execution_count": 82,
   "id": "23b5c3a7",
   "metadata": {},
   "outputs": [],
   "source": [
    "import pandas as pd"
   ]
  },
  {
   "cell_type": "code",
   "execution_count": 83,
   "id": "9426c85d",
   "metadata": {},
   "outputs": [
    {
     "data": {
      "text/html": [
       "<div>\n",
       "<style scoped>\n",
       "    .dataframe tbody tr th:only-of-type {\n",
       "        vertical-align: middle;\n",
       "    }\n",
       "\n",
       "    .dataframe tbody tr th {\n",
       "        vertical-align: top;\n",
       "    }\n",
       "\n",
       "    .dataframe thead th {\n",
       "        text-align: right;\n",
       "    }\n",
       "</style>\n",
       "<table border=\"1\" class=\"dataframe\">\n",
       "  <thead>\n",
       "    <tr style=\"text-align: right;\">\n",
       "      <th></th>\n",
       "      <th>Year of Manufraturing</th>\n",
       "      <th>Company name</th>\n",
       "      <th>Kilometer</th>\n",
       "      <th>Owner</th>\n",
       "      <th>Fuel type</th>\n",
       "      <th>Place</th>\n",
       "      <th>Price</th>\n",
       "    </tr>\n",
       "  </thead>\n",
       "  <tbody>\n",
       "    <tr>\n",
       "      <th>0</th>\n",
       "      <td>2014</td>\n",
       "      <td>Maruti Alto K10</td>\n",
       "      <td>40,562 km</td>\n",
       "      <td>1st Owner</td>\n",
       "      <td>Petrol</td>\n",
       "      <td>New Delhi</td>\n",
       "      <td>₹2,92,499</td>\n",
       "    </tr>\n",
       "    <tr>\n",
       "      <th>1</th>\n",
       "      <td>2015</td>\n",
       "      <td>Maruti Swift</td>\n",
       "      <td>89,196 km</td>\n",
       "      <td>1st Owner</td>\n",
       "      <td>Diesel</td>\n",
       "      <td>New Delhi</td>\n",
       "      <td>₹4,14,499</td>\n",
       "    </tr>\n",
       "    <tr>\n",
       "      <th>2</th>\n",
       "      <td>2014</td>\n",
       "      <td>Maruti Swift Dzire</td>\n",
       "      <td>96,978 km</td>\n",
       "      <td>1st Owner</td>\n",
       "      <td>Diesel</td>\n",
       "      <td>New Delhi</td>\n",
       "      <td>₹4,24,499</td>\n",
       "    </tr>\n",
       "    <tr>\n",
       "      <th>3</th>\n",
       "      <td>2017</td>\n",
       "      <td>Ford Figo Aspire</td>\n",
       "      <td>31,724 km</td>\n",
       "      <td>1st Owner</td>\n",
       "      <td>Petrol</td>\n",
       "      <td>New Delhi</td>\n",
       "      <td>₹4,73,299</td>\n",
       "    </tr>\n",
       "    <tr>\n",
       "      <th>4</th>\n",
       "      <td>2013</td>\n",
       "      <td>Maruti Swift</td>\n",
       "      <td>1,14,506 km</td>\n",
       "      <td>1st Owner</td>\n",
       "      <td>Diesel</td>\n",
       "      <td>New Delhi</td>\n",
       "      <td>₹3,45,499</td>\n",
       "    </tr>\n",
       "  </tbody>\n",
       "</table>\n",
       "</div>"
      ],
      "text/plain": [
       "  Year of Manufraturing        Company name    Kilometer      Owner Fuel type  \\\n",
       "0                 2014      Maruti Alto K10    40,562 km  1st Owner    Petrol   \n",
       "1                 2015         Maruti Swift    89,196 km  1st Owner    Diesel   \n",
       "2                 2014   Maruti Swift Dzire    96,978 km  1st Owner    Diesel   \n",
       "3                 2017     Ford Figo Aspire    31,724 km  1st Owner    Petrol   \n",
       "4                 2013         Maruti Swift  1,14,506 km  1st Owner    Diesel   \n",
       "\n",
       "       Place      Price  \n",
       "0  New Delhi  ₹2,92,499  \n",
       "1  New Delhi  ₹4,14,499  \n",
       "2  New Delhi  ₹4,24,499  \n",
       "3  New Delhi  ₹4,73,299  \n",
       "4  New Delhi  ₹3,45,499  "
      ]
     },
     "execution_count": 83,
     "metadata": {},
     "output_type": "execute_result"
    }
   ],
   "source": [
    "df=pd.DataFrame({'Year of Manufraturing':Model_year, 'Company name':Model,'Kilometer':km,'Owner':owner,'Fuel type':fuel_type,'Place':location,'Price':price})\n",
    "df.head()"
   ]
  },
  {
   "cell_type": "code",
   "execution_count": 84,
   "id": "238db6fd",
   "metadata": {},
   "outputs": [],
   "source": [
    "df.to_excel('car.xlsx')"
   ]
  },
  {
   "cell_type": "code",
   "execution_count": null,
   "id": "d7b46b08",
   "metadata": {},
   "outputs": [],
   "source": [
    "driver.get(\"https://www.olx.in/\") "
   ]
  },
  {
   "cell_type": "code",
   "execution_count": null,
   "id": "a99bd296",
   "metadata": {},
   "outputs": [],
   "source": [
    "driver.find_element_by_xpath(\"//*[@id='container']/header/div/div/div[2]/div/div/div[2]/div/form/fieldset/div/input\").send_keys(\"car\")\n",
    "driver.find_element_by_xpath(\"//*[@id='container']/header/div/div/div[2]/div/div/div[3]\").click()"
   ]
  },
  {
   "cell_type": "code",
   "execution_count": null,
   "id": "272665fd",
   "metadata": {},
   "outputs": [],
   "source": [
    "try:\n",
    "    for i in range(1,100):\n",
    "        driver.find_element_by_xpath(\"//button[@class='rui-39-wj rui-3evoE rui-1JPTg']\").click()\n",
    "        time.sleep(5)\n",
    "except:\n",
    "    pass"
   ]
  },
  {
   "cell_type": "code",
   "execution_count": null,
   "id": "f88ba849",
   "metadata": {},
   "outputs": [],
   "source": [
    "pri=[]\n",
    "for i in driver.find_elements_by_xpath(\"//span[@class='_89yzn']\"):\n",
    "    pri.append(i.text)\n",
    "c_y=[]\n",
    "for i in driver.find_elements_by_xpath(\"//span[@class='_2TVI3']\"):\n",
    "    c_y.append(i.text)\n",
    "c_m=[]\n",
    "for i in driver.find_elements_by_xpath(\"//span[@class='_2tW1I']\"):\n",
    "    c_m.append(i.text)\n",
    "c_p=[]\n",
    "for i in driver.find_elements_by_xpath(\"//div[@class='_1KOFM']\"):\n",
    "    c_p.append(i.text.split(\"\\n\"))\n",
    "print(len(pri),len(c_y),len(c_m),len(c_p))"
   ]
  },
  {
   "cell_type": "code",
   "execution_count": null,
   "id": "912eb44e",
   "metadata": {},
   "outputs": [],
   "source": [
    "pri=pri[0:369]\n",
    "c_m=c_m[0:369]\n",
    "c_p=c_p[0:369]"
   ]
  },
  {
   "cell_type": "code",
   "execution_count": 91,
   "id": "67c447a1",
   "metadata": {},
   "outputs": [],
   "source": [
    "## entering the website to the browser\n",
    "driver.get(\"https://www.cardekho.com/\") "
   ]
  },
  {
   "cell_type": "code",
   "execution_count": 92,
   "id": "441d9aaa",
   "metadata": {},
   "outputs": [],
   "source": [
    "driver.find_element_by_xpath(\"//*[@id='rf01']/header/div[2]/div/div/nav/ul/li[2]/span\").click()"
   ]
  },
  {
   "cell_type": "code",
   "execution_count": 116,
   "id": "f4e03a1d",
   "metadata": {},
   "outputs": [],
   "source": [
    "driver.find_element_by_xpath(\"//*[@id='rf01']/div[1]/div/div/main/div[1]/div[2]/div/div[1]/div[1]/div[2]/input\").click()"
   ]
  },
  {
   "cell_type": "code",
   "execution_count": null,
   "id": "d0db2da5",
   "metadata": {},
   "outputs": [],
   "source": []
  }
 ],
 "metadata": {
  "kernelspec": {
   "display_name": "Python 3 (ipykernel)",
   "language": "python",
   "name": "python3"
  },
  "language_info": {
   "codemirror_mode": {
    "name": "ipython",
    "version": 3
   },
   "file_extension": ".py",
   "mimetype": "text/x-python",
   "name": "python",
   "nbconvert_exporter": "python",
   "pygments_lexer": "ipython3",
   "version": "3.9.7"
  }
 },
 "nbformat": 4,
 "nbformat_minor": 5
}
